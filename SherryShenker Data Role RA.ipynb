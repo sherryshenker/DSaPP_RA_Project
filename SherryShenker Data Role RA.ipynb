{
 "cells": [
  {
   "cell_type": "code",
   "execution_count": 3,
   "metadata": {
    "collapsed": false
   },
   "outputs": [],
   "source": [
    "#Data Exploration\n",
    "import pandas as pd\n",
    "import matplotlib.pyplot as plt\n",
    "import numpy as np\n",
    "donations = pd.read_csv(\"Data/donations.csv\")\n",
    "outcomes = pd.read_csv(\"Data/outcomes.csv\")\n",
    "projects = pd.read_csv(\"Data/projects.csv\")\n"
   ]
  },
  {
   "cell_type": "code",
   "execution_count": 4,
   "metadata": {
    "collapsed": false
   },
   "outputs": [],
   "source": [
    "donations_projects = projects.merge(donations,on='projectid',how=\"right\")"
   ]
  },
  {
   "cell_type": "code",
   "execution_count": 5,
   "metadata": {
    "collapsed": false
   },
   "outputs": [
    {
     "data": {
      "text/plain": [
       "resource_type\n",
       "Books         142394\n",
       "Other          69791\n",
       "Supplies      229213\n",
       "Technology    216145\n",
       "Trips           5499\n",
       "Visitors        1011\n",
       "dtype: int64"
      ]
     },
     "execution_count": 5,
     "metadata": {},
     "output_type": "execute_result"
    }
   ],
   "source": [
    "projects.groupby(\"resource_type\").size()\n",
    "#Most projects are for supplies or technologies, followed by books as the next most frequent"
   ]
  },
  {
   "cell_type": "code",
   "execution_count": 6,
   "metadata": {
    "collapsed": false
   },
   "outputs": [],
   "source": [
    "#recode thoughtful donor variable for easier data exploration and useful for later model building\n",
    "outcomes.loc[outcomes['donation_from_thoughtful_donor'] == 't', 'thoughtful_donor'] = 1\n",
    "outcomes.loc[outcomes['donation_from_thoughtful_donor'] == 'f', 'thoughtful_donor'] = 0"
   ]
  },
  {
   "cell_type": "code",
   "execution_count": 7,
   "metadata": {
    "collapsed": false
   },
   "outputs": [
    {
     "name": "stdout",
     "output_type": "stream",
     "text": [
      "poverty_level\n",
      "high poverty        173561\n",
      "highest poverty     383489\n",
      "low poverty          16711\n",
      "moderate poverty     90337\n",
      "dtype: int64\n",
      "poverty_level\n",
      "high poverty        0.055447\n",
      "highest poverty     0.060004\n",
      "low poverty         0.062025\n",
      "moderate poverty    0.063045\n",
      "Name: percent_exciting, dtype: float64\n"
     ]
    }
   ],
   "source": [
    "#interested to see how many projects there are by poverty level\n",
    "print(projects.groupby(\"poverty_level\").size())\n",
    "#there is a linear trend between higher poverty level and number of projects\n",
    "projects_outcomes = projects.merge(outcomes,on='projectid')\n",
    "#recode \"is exciting\" variable and 'fully_funded' variable\n",
    "projects_outcomes.loc[projects_outcomes['is_exciting'] == 't', 'exciting'] = 1\n",
    "projects_outcomes.loc[projects_outcomes['is_exciting'] == 'f', 'exciting'] = 0\n",
    "projects_outcomes.loc[projects_outcomes['fully_funded'] == 't', 'ff_num'] = 1\n",
    "projects_outcomes.loc[projects_outcomes['fully_funded'] == 'f', 'ff_num'] = 0\n",
    "projects_outcomes.loc[projects_outcomes['school_zip'] != 0,'counter'] = 1\n",
    "#how many projects are exciting by povery level\n",
    "p_o_grouped = projects_outcomes.groupby('poverty_level').sum()\n",
    "p_o_grouped[\"percent_exciting\"] = p_o_grouped[\"exciting\"]/p_o_grouped[\"counter\"]\n",
    "x = p_o_grouped[\"percent_exciting\"]\n",
    "print(x)\n",
    "#there is not a linear trend between poverty level and number of exciting projects"
   ]
  },
  {
   "cell_type": "code",
   "execution_count": 8,
   "metadata": {
    "collapsed": false
   },
   "outputs": [
    {
     "name": "stdout",
     "output_type": "stream",
     "text": [
      "535.9817510486903\n",
      "410.66\n",
      "13125.95802802399\n"
     ]
    }
   ],
   "source": [
    "import numpy as np\n",
    "print(projects_outcomes['total_price_excluding_optional_support'].mean())\n",
    "print(projects_outcomes['total_price_excluding_optional_support'].median())\n",
    "print(projects_outcomes['total_price_excluding_optional_support'].std())\n",
    "projects_outcomes['total_price_excluding_optional_support'].plot.hist(bins=np.linspace(0,1500))\n",
    "plt.show()\n",
    "#distribution of project prices is very right-skewed and the standard deviation is very high. "
   ]
  },
  {
   "cell_type": "code",
   "execution_count": 9,
   "metadata": {
    "collapsed": false
   },
   "outputs": [
    {
     "data": {
      "text/plain": [
       "poverty_level\n",
       "high poverty        0.658163\n",
       "highest poverty     0.726354\n",
       "low poverty         0.669308\n",
       "moderate poverty    0.639796\n",
       "Name: percent_funded, dtype: float64"
      ]
     },
     "execution_count": 9,
     "metadata": {},
     "output_type": "execute_result"
    }
   ],
   "source": [
    "p_o_grouped = projects_outcomes.groupby('poverty_level').sum()\n",
    "p_o_grouped.head()\n",
    "p_o_grouped[\"percent_funded\"] = p_o_grouped[\"ff_num\"]/p_o_grouped[\"counter\"]\n",
    "p_o_grouped[\"percent_funded\"]"
   ]
  },
  {
   "cell_type": "code",
   "execution_count": 10,
   "metadata": {
    "collapsed": true
   },
   "outputs": [],
   "source": [
    "#The highest poverty grouping has the highest amount of fully funded projects, which is a positive sign\n",
    "#It would be concerning if projects in low poverty schools had a greater amount of funding\n",
    "#At the same time, the fact that 66% of projects at low poverty schools are fully funded is questionable\n",
    "#Are all of those projects really necessary or could some of that money be better spent on\n",
    "#high poverty and highest poverty schools?"
   ]
  },
  {
   "cell_type": "code",
   "execution_count": 11,
   "metadata": {
    "collapsed": false
   },
   "outputs": [
    {
     "name": "stdout",
     "output_type": "stream",
     "text": [
      "3\n",
      "126242\n"
     ]
    }
   ],
   "source": [
    "projects_by_state = projects.groupby(\"school_state\").count()\n",
    "projects_by_state['state'] = projects_by_state.index\n",
    "print(projects_by_state['projectid'].min())\n",
    "print(projects_by_state['projectid'].max())\n",
    "#There is a huge range in the number of projects by state"
   ]
  },
  {
   "cell_type": "code",
   "execution_count": 13,
   "metadata": {
    "collapsed": false
   },
   "outputs": [
    {
     "name": "stdout",
     "output_type": "stream",
     "text": [
      "512.6267612551935\n",
      "500.3494735476628\n",
      "59.70915887067716\n"
     ]
    }
   ],
   "source": [
    "p_by_s_mean = projects.groupby(\"school_state\").mean()\n",
    "print(p_by_s_mean[\"total_price_excluding_optional_support\"].mean())\n",
    "print(p_by_s_mean['total_price_excluding_optional_support'].median())\n",
    "print(p_by_s_mean['total_price_excluding_optional_support'].std())\n",
    "#The means and medians by state are not significantly different from those\n",
    "#by poverty level. However, there is far less variance in project costs by state\n",
    "#as compared to project costs by poverty level. Standard deviation was over 13000 \n",
    "#for mean project costs by povery level"
   ]
  },
  {
   "cell_type": "code",
   "execution_count": 14,
   "metadata": {
    "collapsed": false
   },
   "outputs": [
    {
     "name": "stdout",
     "output_type": "stream",
     "text": [
      "494.5225905747767\n",
      "538.5940476230993\n",
      "special\n",
      "0.0    508129\n",
      "1.0    111197\n",
      "dtype: int64\n"
     ]
    }
   ],
   "source": [
    "#Look at what types of projects are exciting\n",
    "exciting = projects_outcomes[projects_outcomes[\"exciting\"]==1]\n",
    "non_exciting = projects_outcomes[projects_outcomes[\"exciting\"]!=1]\n",
    "print(exciting['total_price_excluding_optional_support'].mean())\n",
    "print(non_exciting['total_price_excluding_optional_support'].mean())\n",
    "e = exciting.groupby(\"resource_type\").size()\n",
    "n = non_exciting.groupby(\"resource_type\").size()\n",
    "tot_e = 0\n",
    "tot_n = 0\n",
    "for cat in e:\n",
    "    tot_e += cat\n",
    "for cat in n:\n",
    "    tot_n += cat\n",
    "header = [\"Books\",\"Other\",\"Supplies\",\"Tech\",\"Trips\",\"Visitors\"]\n",
    "lists = []\n",
    "l1 = []\n",
    "l2 = []\n",
    "for i in e:\n",
    "    l1.append(i/tot_e)\n",
    "for i in n:\n",
    "    l2.append(i/tot_n)\n",
    "lists.append(l1)\n",
    "lists.append(l2)\n",
    "category_comp = pd.DataFrame(lists,columns=header)\n",
    "c = category_comp.rename(index={0: 'Exciting',1:'Non-exciting'})\n",
    "c.T.plot.bar(rot=0)\n",
    "plt.title(\"Project Type Comparison between Exciting and Non-exciting\")\n",
    "plt.show()\n",
    "\n",
    "#look at what types of schools are using Donors.org\n",
    "#Exciting projects are on average less expensive than nonexciting projects, which is interesting\n",
    "projects_outcomes.loc[(projects_outcomes['school_charter'] == 't')|(projects_outcomes['school_kipp'] == 't')\n",
    "                      |(projects_outcomes['school_magnet'] == 't')|\n",
    "                      (projects_outcomes['school_charter_ready_promise'] == 't'),\n",
    "                      'special'] = 1\n",
    "projects_outcomes.loc[projects_outcomes[\"special\"]!= 1,\"special\"] = 0\n",
    "print(projects_outcomes.groupby(\"special\").size())\n",
    "#Given that most schools in the U.S. overall aren't magnet/charter/kipp, it is interesting that a \n",
    "#significant portion of projects are submitted by teachers at these types of schools\n",
    "\n"
   ]
  },
  {
   "cell_type": "code",
   "execution_count": null,
   "metadata": {
    "collapsed": false
   },
   "outputs": [],
   "source": [
    "##similar exercise as excitig vs. non-exciting for fully-funded vs. not fully-funded\n",
    "funded = projects_outcomes[projects_outcomes[\"fully_funded\"]=='t']\n",
    "non_ff = projects_outcomes[projects_outcomes[\"fully_funded\"]=='f']\n",
    "f = funded.groupby(\"resource_type\").size()\n",
    "nonf = non_ff.groupby(\"resource_type\").size()\n",
    "tot_f = 0\n",
    "tot_nonf = 0\n",
    "totals = []\n",
    "for cat in projects_outcomes.groupby(\"resource_type\").size():\n",
    "    totals.append(cat)    \n",
    "#for cat in f:\n",
    "#    tot_f += cat\n",
    "#for cat in nonf:\n",
    "#    tot_nonf += cat\n",
    "header = [\"Books\",\"Other\",\"Supplies\",\"Tech\",\"Trips\",\"Visitors\"]\n",
    "lists = []\n",
    "l1 = []\n",
    "l2 = []\n",
    "counter1 = 0\n",
    "counter2 = 0\n",
    "for i in f:\n",
    "    l1.append(i/totals[counter1])\n",
    "    counter1 += 1\n",
    "for i in nonf:\n",
    "    l2.append(i/totals[counter2])\n",
    "    counter2 += 1\n",
    "lists.append(l1)\n",
    "lists.append(l2)\n",
    "category_comp = pd.DataFrame(lists,columns=header)\n",
    "c = category_comp.rename(index={0: 'Fully Funded',1:'Not Fully Funded'})\n",
    "c.T.plot.bar(rot=0)\n",
    "plt.title(\"Project Type Comparison between Fully Funded and Not\")\n",
    "plt.show()"
   ]
  },
  {
   "cell_type": "code",
   "execution_count": 15,
   "metadata": {
    "collapsed": false
   },
   "outputs": [
    {
     "name": "stdout",
     "output_type": "stream",
     "text": [
      "resource_type        Books     Other  Supplies  Technology     Trips  Visitors\n",
      "poverty_level                                                                 \n",
      "high poverty      0.207837  0.105350  0.333896    0.345714  0.005837  0.001366\n",
      "highest poverty   0.224823  0.105755  0.359766    0.297595  0.010389  0.001672\n",
      "low poverty       0.182226  0.092101  0.298983    0.418971  0.006344  0.001376\n",
      "moderate poverty  0.188947  0.104232  0.313428    0.387791  0.004384  0.001218\n"
     ]
    }
   ],
   "source": [
    "#Data Story\n",
    "#Something very interesting that this data portrays, is how donations serve different needs \n",
    "#for different types of schools. This is the reason that I have done a lot of exploration based\n",
    "#on socioeconomic status. While the differences are not dramatic, they are still significant.\n",
    "#First, you see that different types of schools request different types of resources.\n",
    "c = pd.crosstab(index=projects[\"poverty_level\"],columns=projects[\"resource_type\"]).apply(lambda r: r/r.sum(), axis=1)\n",
    "print(c)\n",
    "#Teachers in high poverty schools request more books, while teachers in low poverty schools request more technology"
   ]
  },
  {
   "cell_type": "code",
   "execution_count": 16,
   "metadata": {
    "collapsed": false
   },
   "outputs": [
    {
     "name": "stdout",
     "output_type": "stream",
     "text": [
      "poverty_level     resource_type\n",
      "high poverty      Books             408.542445\n",
      "                  Other             458.246673\n",
      "                  Supplies          420.908364\n",
      "                  Technology        664.141524\n",
      "                  Trips            2381.275467\n",
      "                  Visitors          964.756239\n",
      "highest poverty   Books             418.234235\n",
      "                  Other             745.711013\n",
      "                  Supplies          418.205596\n",
      "                  Technology        668.817141\n",
      "                  Trips            2053.907476\n",
      "                  Visitors         1107.885398\n",
      "low poverty       Books             452.799062\n",
      "                  Other             470.903593\n",
      "                  Supplies          474.402223\n",
      "                  Technology        753.769352\n",
      "                  Trips            1858.700421\n",
      "                  Visitors          988.301905\n",
      "moderate poverty  Books             410.600515\n",
      "                  Other             452.164373\n",
      "                  Supplies          430.816966\n",
      "                  Technology        663.844033\n",
      "                  Trips            2547.630222\n",
      "                  Visitors         1190.087312\n",
      "Name: total_price_excluding_optional_support, dtype: float64\n"
     ]
    }
   ],
   "source": [
    "hmm = projects_outcomes.groupby('poverty_level').mean()['total_price_excluding_optional_support']\n",
    "ax = hmm.plot(kind='bar',rot=0)\n",
    "#ax.set_xlabel(\"Hour\",fontsize=8,rotation=45)\n",
    "ax.set_ylabel(\"Mean Price\",fontsize=12)\n",
    "plt.show()\n",
    "twoway = projects_outcomes.groupby(['poverty_level','resource_type']).mean()['total_price_excluding_optional_support']\n",
    "print(twoway)\n",
    "#The distribution of project costs by poverty level is right-skewed. \n",
    "#The standard deviation of proejcts costs is very high\n",
    "#The highest mean price for projects is the one for low poverty schools, which is interesting\n",
    "#This may suggest that low poverty schools do not need donations for more basic supplies\n",
    "#that cost less but high poverty schools still cannot get"
   ]
  },
  {
   "cell_type": "code",
   "execution_count": 17,
   "metadata": {
    "collapsed": false
   },
   "outputs": [
    {
     "data": {
      "text/html": [
       "<div>\n",
       "<table border=\"1\" class=\"dataframe\">\n",
       "  <thead>\n",
       "    <tr style=\"text-align: right;\">\n",
       "      <th></th>\n",
       "      <th>school_ncesid</th>\n",
       "      <th>school_latitude</th>\n",
       "      <th>school_longitude</th>\n",
       "      <th>school_zip</th>\n",
       "      <th>fulfillment_labor_materials</th>\n",
       "      <th>total_price_excluding_optional_support</th>\n",
       "      <th>total_price_including_optional_support</th>\n",
       "      <th>students_reached</th>\n",
       "      <th>donor_zip</th>\n",
       "      <th>donation_to_project</th>\n",
       "      <th>donation_optional_support</th>\n",
       "      <th>donation_total</th>\n",
       "    </tr>\n",
       "    <tr>\n",
       "      <th>poverty_level</th>\n",
       "      <th></th>\n",
       "      <th></th>\n",
       "      <th></th>\n",
       "      <th></th>\n",
       "      <th></th>\n",
       "      <th></th>\n",
       "      <th></th>\n",
       "      <th></th>\n",
       "      <th></th>\n",
       "      <th></th>\n",
       "      <th></th>\n",
       "      <th></th>\n",
       "    </tr>\n",
       "  </thead>\n",
       "  <tbody>\n",
       "    <tr>\n",
       "      <th>high poverty</th>\n",
       "      <td>2.473408e+11</td>\n",
       "      <td>36.958640</td>\n",
       "      <td>-97.818668</td>\n",
       "      <td>59524.309255</td>\n",
       "      <td>29.661959</td>\n",
       "      <td>628.753862</td>\n",
       "      <td>743.592836</td>\n",
       "      <td>94.067739</td>\n",
       "      <td>53337.151860</td>\n",
       "      <td>62.834729</td>\n",
       "      <td>10.184012</td>\n",
       "      <td>73.018636</td>\n",
       "    </tr>\n",
       "    <tr>\n",
       "      <th>highest poverty</th>\n",
       "      <td>2.476224e+11</td>\n",
       "      <td>37.293905</td>\n",
       "      <td>-93.005818</td>\n",
       "      <td>52007.505186</td>\n",
       "      <td>28.770371</td>\n",
       "      <td>721.519528</td>\n",
       "      <td>858.625001</td>\n",
       "      <td>94.313612</td>\n",
       "      <td>48579.223100</td>\n",
       "      <td>67.945356</td>\n",
       "      <td>11.093919</td>\n",
       "      <td>79.038613</td>\n",
       "    </tr>\n",
       "    <tr>\n",
       "      <th>low poverty</th>\n",
       "      <td>1.875562e+11</td>\n",
       "      <td>36.923981</td>\n",
       "      <td>-100.259505</td>\n",
       "      <td>61935.411583</td>\n",
       "      <td>30.230401</td>\n",
       "      <td>648.122112</td>\n",
       "      <td>765.585965</td>\n",
       "      <td>91.623871</td>\n",
       "      <td>57729.434035</td>\n",
       "      <td>74.400670</td>\n",
       "      <td>12.163064</td>\n",
       "      <td>86.563733</td>\n",
       "    </tr>\n",
       "    <tr>\n",
       "      <th>moderate poverty</th>\n",
       "      <td>2.575351e+11</td>\n",
       "      <td>37.527498</td>\n",
       "      <td>-96.306059</td>\n",
       "      <td>56664.875749</td>\n",
       "      <td>30.168340</td>\n",
       "      <td>606.401602</td>\n",
       "      <td>715.864219</td>\n",
       "      <td>101.215617</td>\n",
       "      <td>53600.806668</td>\n",
       "      <td>62.040868</td>\n",
       "      <td>10.011141</td>\n",
       "      <td>72.052720</td>\n",
       "    </tr>\n",
       "  </tbody>\n",
       "</table>\n",
       "</div>"
      ],
      "text/plain": [
       "                  school_ncesid  school_latitude  school_longitude  \\\n",
       "poverty_level                                                        \n",
       "high poverty       2.473408e+11        36.958640        -97.818668   \n",
       "highest poverty    2.476224e+11        37.293905        -93.005818   \n",
       "low poverty        1.875562e+11        36.923981       -100.259505   \n",
       "moderate poverty   2.575351e+11        37.527498        -96.306059   \n",
       "\n",
       "                    school_zip  fulfillment_labor_materials  \\\n",
       "poverty_level                                                 \n",
       "high poverty      59524.309255                    29.661959   \n",
       "highest poverty   52007.505186                    28.770371   \n",
       "low poverty       61935.411583                    30.230401   \n",
       "moderate poverty  56664.875749                    30.168340   \n",
       "\n",
       "                  total_price_excluding_optional_support  \\\n",
       "poverty_level                                              \n",
       "high poverty                                  628.753862   \n",
       "highest poverty                               721.519528   \n",
       "low poverty                                   648.122112   \n",
       "moderate poverty                              606.401602   \n",
       "\n",
       "                  total_price_including_optional_support  students_reached  \\\n",
       "poverty_level                                                                \n",
       "high poverty                                  743.592836         94.067739   \n",
       "highest poverty                               858.625001         94.313612   \n",
       "low poverty                                   765.585965         91.623871   \n",
       "moderate poverty                              715.864219        101.215617   \n",
       "\n",
       "                     donor_zip  donation_to_project  \\\n",
       "poverty_level                                         \n",
       "high poverty      53337.151860            62.834729   \n",
       "highest poverty   48579.223100            67.945356   \n",
       "low poverty       57729.434035            74.400670   \n",
       "moderate poverty  53600.806668            62.040868   \n",
       "\n",
       "                  donation_optional_support  donation_total  \n",
       "poverty_level                                                \n",
       "high poverty                      10.184012       73.018636  \n",
       "highest poverty                   11.093919       79.038613  \n",
       "low poverty                       12.163064       86.563733  \n",
       "moderate poverty                  10.011141       72.052720  "
      ]
     },
     "execution_count": 17,
     "metadata": {},
     "output_type": "execute_result"
    }
   ],
   "source": [
    "#look at how donations vary by poverty level\n",
    "donations_projects.groupby([\"poverty_level\"]).mean()\n",
    "#Low poverty schools get the largest donations, unsurprisingly\n",
    "#Interesting, there is very little variation in the amount of optional support given by poverty level\n",
    "#which could present an opportunity for DonorsChose.org to get more money out of wealthier donors?"
   ]
  },
  {
   "cell_type": "code",
   "execution_count": null,
   "metadata": {
    "collapsed": true
   },
   "outputs": [],
   "source": [
    "'''Questions for Project Partners\n",
    "1. It would be interesting to compare the degree to which donations are vital, for example\n",
    "by having an algorithm that analyzes the text to determine how important a project is \n",
    "for the success of the students in the classroom\n",
    "2. More demographic data would be interesting for understanding what types of students\n",
    "and schools these donations are serving, and help DonorsChoose.org really quantify their impact\n",
    "3. It is interesting that there are so many projects but only 15 designated \"thoughtful donors\"\n",
    "I think that the data could be explored further in order to understand what makes a trustworthy donor\n",
    "and create a way of identifying more donors who are making an impact'''"
   ]
  },
  {
   "cell_type": "code",
   "execution_count": null,
   "metadata": {
    "collapsed": false
   },
   "outputs": [],
   "source": [
    "\"\"\"Model to predict how much funding a project will receive\n",
    "This is relevant to DonorsChoose.org because if it can identify projects that are both\n",
    "\"exciting/important\" and WILL NOT receive sufficient funding, then they can do more to promote\n",
    "those projects on their website, helping schools in need get the support that they need\n",
    "\n",
    "Logistic regression with outcome variable = fully funded\n",
    "Predictor variables: poverty level, resource type, \n",
    "project_cost, number of projects @ that school, whether or not school is charter/magnet\n",
    "\"\"\"  \n"
   ]
  },
  {
   "cell_type": "code",
   "execution_count": 19,
   "metadata": {
    "collapsed": false
   },
   "outputs": [
    {
     "name": "stdout",
     "output_type": "stream",
     "text": [
      "Optimization terminated successfully.\n",
      "         Current function value: 0.591083\n",
      "         Iterations 8\n",
      "                           Logit Regression Results                           \n",
      "==============================================================================\n",
      "Dep. Variable:                 ff_num   No. Observations:               494844\n",
      "Model:                          Logit   Df Residuals:                   494831\n",
      "Method:                           MLE   Df Model:                           12\n",
      "Date:                Fri, 21 Oct 2016   Pseudo R-squ.:                 0.03810\n",
      "Time:                        14:01:30   Log-Likelihood:            -2.9249e+05\n",
      "converged:                       True   LL-Null:                   -3.0408e+05\n",
      "                                        LLR p-value:                     0.000\n",
      "==========================================================================================================\n",
      "                                             coef    std err          z      P>|z|      [95.0% Conf. Int.]\n",
      "----------------------------------------------------------------------------------------------------------\n",
      "total_price_excluding_optional_support    -0.0007   8.14e-06    -80.051      0.000        -0.001    -0.001\n",
      "num_projects                               0.0018   3.74e-05     49.255      0.000         0.002     0.002\n",
      "special                                    0.1699      0.009     19.845      0.000         0.153     0.187\n",
      "plevel_high poverty                        0.4820      0.346      1.394      0.163        -0.196     1.160\n",
      "plevel_highest poverty                     0.7489      0.346      2.166      0.030         0.071     1.427\n",
      "plevel_low poverty                         0.6454      0.346      1.864      0.062        -0.033     1.324\n",
      "plevel_moderate poverty                    0.4699      0.346      1.359      0.174        -0.208     1.148\n",
      "rtype_Books                                0.6452      0.346      1.866      0.062        -0.033     1.323\n",
      "rtype_Other                                0.3075      0.346      0.889      0.374        -0.370     0.985\n",
      "rtype_Supplies                             0.4765      0.346      1.378      0.168        -0.201     1.154\n",
      "rtype_Technology                           0.1194      0.346      0.345      0.730        -0.558     0.797\n",
      "rtype_Trips                                1.3322      0.349      3.821      0.000         0.649     2.016\n",
      "rtype_Visitors                             0.5766      0.356      1.621      0.105        -0.120     1.274\n",
      "==========================================================================================================\n",
      "total_price_excluding_optional_support    0.999349\n",
      "num_projects                              1.001846\n",
      "special                                   1.185192\n",
      "plevel_high poverty                       1.619345\n",
      "plevel_highest poverty                    2.114578\n",
      "plevel_low poverty                        1.906804\n",
      "plevel_moderate poverty                   1.599885\n",
      "rtype_Books                               1.906372\n",
      "rtype_Other                               1.360022\n",
      "rtype_Supplies                            1.610454\n",
      "rtype_Technology                          1.126846\n",
      "rtype_Trips                               3.789513\n",
      "rtype_Visitors                            1.779974\n",
      "dtype: float64\n",
      "0.7104574208995067\n",
      "0.6609791795610424\n"
     ]
    },
    {
     "name": "stderr",
     "output_type": "stream",
     "text": [
      "/Users/SherryShenker/anaconda/lib/python3.5/site-packages/ipykernel/__main__.py:35: SettingWithCopyWarning: \n",
      "A value is trying to be set on a copy of a slice from a DataFrame.\n",
      "Try using .loc[row_indexer,col_indexer] = value instead\n",
      "\n",
      "See the caveats in the documentation: http://pandas.pydata.org/pandas-docs/stable/indexing.html#indexing-view-versus-copy\n"
     ]
    }
   ],
   "source": [
    "import statsmodels.api as sm\n",
    "import pylab as pl\n",
    "import numpy as np\n",
    "import pandas as pd\n",
    "\n",
    "#count number of projects by school\n",
    "counts = projects.groupby(\"schoolid\").count().reset_index()\n",
    "num_per_school = counts[[\"schoolid\",\"projectid\"]]\n",
    "num_per_school.columns = ['schoolid', 'num_projects']\n",
    "\n",
    "#merge in data\n",
    "model = projects_outcomes.merge(num_per_school,on='schoolid',how='left')\n",
    "\n",
    "#generate dummy variables for categorical data\n",
    "dummies1 = pd.get_dummies(model[\"poverty_level\"],prefix=\"plevel\")\n",
    "dummies2 = pd.get_dummies(model[\"resource_type\"],prefix=\"rtype\")\n",
    "model = model[['total_price_excluding_optional_support','num_projects','special','ff_num']]\n",
    "cleaned = model.join(dummies1)\n",
    "cleaned = cleaned.join(dummies2)\n",
    "\n",
    "#seperate into training and testing\n",
    "msk = np.random.rand(len(model)) < 0.8\n",
    "train = cleaned[msk]\n",
    "test = cleaned[~msk]\n",
    "#X variables\n",
    "predictors = train.drop(['ff_num'],axis=1)\n",
    "test_predictors = test.drop(['ff_num'],axis=1)\n",
    "#Construct model\n",
    "logit = sm.Logit(train['ff_num'],predictors.astype(float))\n",
    "result = logit.fit()\n",
    "#summary results and odds ratios\n",
    "print(result.summary())\n",
    "print(np.exp(result.params))\n",
    "y_pred = result.predict(test_predictors)\n",
    "test[\"prediction\"] = y_pred\n",
    "ff = test[test[\"ff_num\"]==1]\n",
    "print(ff[\"prediction\"].mean())\n",
    "nff = test[test[\"ff_num\"]==0]\n",
    "print(nff[\"prediction\"].mean())\n",
    "#From this exercise, especially by comparing the odds-ratios, we can learn what types of projects\n",
    "#have a higher probability of being funded, or, conversely, a higher probability of NOT being funded\n",
    "#Trips and books have the highest likelihood of being funded, while visitors have a lower probability of being funded\n",
    "#Some of the trends are what we saw in the data exploration, but there are also less obvious factors\n",
    "#The number of projects at the project's school has a positive impact on receiving funding\n",
    "#This suggests that projects from schools with fewer users of DonorsChoose.org might receive less funding\n",
    "#despite having projects of equal quality, and this is something that DonorsChoose.org could address\n",
    "#this is a very basic model. It could be improved with more time to include additional variables,\n",
    "#interactions of variables, natural language processing of the project descriptions, or more advanced\n",
    "#machine learning techniques"
   ]
  },
  {
   "cell_type": "code",
   "execution_count": null,
   "metadata": {
    "collapsed": true
   },
   "outputs": [],
   "source": []
  }
 ],
 "metadata": {
  "kernelspec": {
   "display_name": "Python 3",
   "language": "python",
   "name": "python3"
  },
  "language_info": {
   "codemirror_mode": {
    "name": "ipython",
    "version": 3
   },
   "file_extension": ".py",
   "mimetype": "text/x-python",
   "name": "python",
   "nbconvert_exporter": "python",
   "pygments_lexer": "ipython3",
   "version": "3.5.1"
  }
 },
 "nbformat": 4,
 "nbformat_minor": 0
}
